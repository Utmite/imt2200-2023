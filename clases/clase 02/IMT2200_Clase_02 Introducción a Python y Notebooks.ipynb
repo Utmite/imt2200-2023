{
 "cells": [
  {
   "cell_type": "markdown",
   "id": "413dcded",
   "metadata": {},
   "source": [
    "# <img style=\"float: left; padding-right: 20px; width: 200px\" src=\"https://raw.githubusercontent.com/raxlab/imt2200/main/media/logo.jpg\">  IMT 2200 - Introducción a Ciencia de Datos\n",
    "**Pontificia Universidad Católica de Chile**<br>\n",
    "**Instituto de Ingeniería Matemática y Computacional**<br>\n",
    "**Semestre 2023-1**<br>\n",
    "**Profesor:** Rodrigo A. Carrasco <br>\n",
    "---"
   ]
  },
  {
   "attachments": {
    "29441847-s.jpg": {
     "image/jpeg": "[encoded data removed]"
    }
   },
   "cell_type": "markdown",
   "id": "513d53dc",
   "metadata": {},
   "source": [
    "# <h1><center>Clase 02: Clase 02: Repaso de Python y Jupyter Notebooks</center></h1>\n",
    "\n",
    "Referencia: Capítulo 2 de \"Python for Data Analysis\", 3rd Ed., Wes McKinney y basado en el notebook introductorio de Eduardo Moreno\n",
    "![29441847-s.jpg](attachment:29441847-s.jpg)"
   ]
  },
  {
   "cell_type": "markdown",
   "id": "a9665956",
   "metadata": {},
   "source": [
    "**Python**: Lenguaje de programación (ejecuta comandos, generalmente de un archivo)\n",
    "\n",
    "**Jupyter Notebooks**: Interface Web para desplegar texto (Markdown) y comandos IPython (y otro lenguajes)"
   ]
  },
  {
   "cell_type": "markdown",
   "id": "a3200e17",
   "metadata": {},
   "source": [
    "### Expresiones y variables"
   ]
  },
  {
   "cell_type": "code",
   "execution_count": null,
   "id": "b90ac042",
   "metadata": {},
   "outputs": [],
   "source": [
    "1+2"
   ]
  },
  {
   "cell_type": "code",
   "execution_count": null,
   "id": "af517147",
   "metadata": {},
   "outputs": [],
   "source": [
    "a = 5\n",
    "b = 3 \n",
    "a+b"
   ]
  },
  {
   "cell_type": "code",
   "execution_count": null,
   "id": "ca426414",
   "metadata": {},
   "outputs": [],
   "source": [
    "a+b"
   ]
  },
  {
   "cell_type": "markdown",
   "id": "f6c95c9f",
   "metadata": {},
   "source": [
    "### Información de funciones"
   ]
  },
  {
   "cell_type": "code",
   "execution_count": null,
   "id": "f4b8f8f6",
   "metadata": {},
   "outputs": [],
   "source": [
    "print?"
   ]
  },
  {
   "cell_type": "markdown",
   "id": "23e08d9c",
   "metadata": {},
   "source": [
    "### Uso de librerías"
   ]
  },
  {
   "cell_type": "code",
   "execution_count": null,
   "id": "24b396b7",
   "metadata": {},
   "outputs": [],
   "source": [
    "import matplotlib.pyplot as plt\n",
    "plt.plot([1,10,5,4])"
   ]
  },
  {
   "cell_type": "markdown",
   "id": "f502071f",
   "metadata": {},
   "source": [
    "## Conceptos Básicos\n",
    "### Sintaxis\n",
    "A diferencia de otros lenguajes el _scope_ se define usando indentación y no llaves"
   ]
  },
  {
   "cell_type": "code",
   "execution_count": null,
   "id": "6c5e5f94",
   "metadata": {},
   "outputs": [],
   "source": [
    "for x in [1,2,3]:\n",
    "    if x < 2:\n",
    "        print(\"Hola\")\n",
    "    else:\n",
    "        print(x**2)\n",
    "print(\"chao\")"
   ]
  },
  {
   "cell_type": "markdown",
   "id": "d0d56d0e",
   "metadata": {},
   "source": [
    "se usa el signo ```#``` para hacer comentarios"
   ]
  },
  {
   "cell_type": "code",
   "execution_count": null,
   "id": "640aa4d8",
   "metadata": {},
   "outputs": [],
   "source": [
    "for x in [1,2,3]:\n",
    "    # si es menor que 2 dice hola\n",
    "    if x < 2:\n",
    "        print(\"Hola\")\n",
    "    # si no lo eleva al cuadrado\n",
    "    else:\n",
    "        print(x**2)"
   ]
  },
  {
   "cell_type": "code",
   "execution_count": null,
   "id": "4efc2a41",
   "metadata": {},
   "outputs": [],
   "source": [
    "print(\"Hola\")  # comentario al final"
   ]
  },
  {
   "cell_type": "markdown",
   "id": "c95a76d0",
   "metadata": {},
   "source": [
    "### Variables"
   ]
  },
  {
   "cell_type": "code",
   "execution_count": null,
   "id": "022c9b63",
   "metadata": {},
   "outputs": [],
   "source": [
    "a = 521"
   ]
  },
  {
   "cell_type": "code",
   "execution_count": null,
   "id": "51c11632",
   "metadata": {},
   "outputs": [],
   "source": [
    "a = a + 1"
   ]
  },
  {
   "cell_type": "code",
   "execution_count": null,
   "id": "828f97e8",
   "metadata": {},
   "outputs": [],
   "source": [
    "a+ = 1"
   ]
  },
  {
   "cell_type": "markdown",
   "id": "8a79dbba",
   "metadata": {},
   "source": [
    "Todo es un _objeto_ en Python, por lo que tienen atributos y métodos asociados."
   ]
  },
  {
   "cell_type": "code",
   "execution_count": null,
   "id": "0c6b31f9",
   "metadata": {},
   "outputs": [],
   "source": [
    "a = \"perro\"\n",
    "a"
   ]
  },
  {
   "cell_type": "code",
   "execution_count": null,
   "id": "4c76a253",
   "metadata": {},
   "outputs": [],
   "source": [
    "a.upper()"
   ]
  },
  {
   "cell_type": "code",
   "execution_count": null,
   "id": "5bbbe2ff",
   "metadata": {},
   "outputs": [],
   "source": [
    "a.count(\"r\")"
   ]
  },
  {
   "cell_type": "code",
   "execution_count": null,
   "id": "ddbccdd3",
   "metadata": {},
   "outputs": [],
   "source": [
    "a.capitalize()"
   ]
  },
  {
   "cell_type": "markdown",
   "id": "affac5e0",
   "metadata": {},
   "source": [
    "Es importantísimo recordar que con igualdad se crea una **referencia** entre objetos y no una copia."
   ]
  },
  {
   "cell_type": "code",
   "execution_count": null,
   "id": "3d30baf6",
   "metadata": {},
   "outputs": [],
   "source": [
    "a = [1, 2, 3]\n",
    "b = a \n",
    "b"
   ]
  },
  {
   "cell_type": "code",
   "execution_count": null,
   "id": "3ab895ee",
   "metadata": {},
   "outputs": [],
   "source": [
    "a.append(4)\n",
    "a"
   ]
  },
  {
   "cell_type": "code",
   "execution_count": null,
   "id": "a7ab93b6",
   "metadata": {},
   "outputs": [],
   "source": [
    "b"
   ]
  },
  {
   "cell_type": "code",
   "execution_count": null,
   "id": "a576788f",
   "metadata": {},
   "outputs": [],
   "source": [
    "b.append('H')\n",
    "b"
   ]
  },
  {
   "cell_type": "code",
   "execution_count": null,
   "id": "06fcf8f3",
   "metadata": {},
   "outputs": [],
   "source": [
    "a"
   ]
  },
  {
   "cell_type": "code",
   "execution_count": null,
   "id": "39adca77",
   "metadata": {},
   "outputs": [],
   "source": [
    "b"
   ]
  },
  {
   "cell_type": "markdown",
   "id": "b71932a0",
   "metadata": {},
   "source": [
    "Algunos objetos tienen un _metodo_ que permite hacer copias del contenido."
   ]
  },
  {
   "cell_type": "code",
   "execution_count": null,
   "id": "ac461d97",
   "metadata": {},
   "outputs": [],
   "source": [
    "a = [1, 2, 3]\n",
    "b=a.copy()\n",
    "a.append(4)\n",
    "a"
   ]
  },
  {
   "cell_type": "code",
   "execution_count": null,
   "id": "11330186",
   "metadata": {},
   "outputs": [],
   "source": [
    "b"
   ]
  },
  {
   "cell_type": "markdown",
   "id": "81fdfac1",
   "metadata": {},
   "source": [
    "#### Tipos y referencias fuertes\n",
    "Python no tiene \"tipos\" fuertes asociado a una variable. Una variable puede cambiar de un tipo a otro, a veces sin siquiera darnos cuenta."
   ]
  },
  {
   "cell_type": "code",
   "execution_count": null,
   "id": "0d049397",
   "metadata": {},
   "outputs": [],
   "source": [
    "a = 5\n",
    "type(a)"
   ]
  },
  {
   "cell_type": "code",
   "execution_count": null,
   "id": "bbf63b43",
   "metadata": {},
   "outputs": [],
   "source": [
    "b = 'foo'\n",
    "type(b)"
   ]
  },
  {
   "cell_type": "code",
   "execution_count": null,
   "id": "27ef31c4",
   "metadata": {},
   "outputs": [],
   "source": [
    "'5' + 5"
   ]
  },
  {
   "cell_type": "code",
   "execution_count": null,
   "id": "06f0cf7f",
   "metadata": {},
   "outputs": [],
   "source": [
    "a+a"
   ]
  },
  {
   "cell_type": "code",
   "execution_count": null,
   "id": "e6ebc8b9",
   "metadata": {},
   "outputs": [],
   "source": [
    "'5'+'5'"
   ]
  },
  {
   "cell_type": "code",
   "execution_count": null,
   "id": "2509a80a",
   "metadata": {},
   "outputs": [],
   "source": [
    "\"hola\" + \"chao\""
   ]
  },
  {
   "cell_type": "code",
   "execution_count": null,
   "id": "d0710757",
   "metadata": {},
   "outputs": [],
   "source": [
    "b"
   ]
  },
  {
   "cell_type": "code",
   "execution_count": null,
   "id": "46dd0802",
   "metadata": {},
   "outputs": [],
   "source": [
    "b*10"
   ]
  },
  {
   "cell_type": "markdown",
   "id": "842c899d",
   "metadata": {},
   "source": [
    "Algunas conversiones las hace internamente Python:"
   ]
  },
  {
   "cell_type": "code",
   "execution_count": null,
   "id": "2047c7d3",
   "metadata": {},
   "outputs": [],
   "source": [
    "a = 4.5\n",
    "type(a)\n",
    "b = 2\n",
    "type(b)\n",
    "a/b\n",
    "type(a/b)"
   ]
  },
  {
   "cell_type": "code",
   "execution_count": null,
   "id": "b316ef45",
   "metadata": {},
   "outputs": [],
   "source": [
    "v = [1,2,3]\n",
    "v*5"
   ]
  },
  {
   "cell_type": "markdown",
   "id": "c7508a64",
   "metadata": {},
   "source": [
    "#### Atributos y métodos\n",
    "```python\n",
    "In [1]: a = 'foo'\n",
    "\n",
    "In [2]: a.<Tab>\n",
    "a.capitalize  a.format      a.isupper     a.rindex      a.strip\n",
    "a.center      a.index       a.join        a.rjust       a.swapcase\n",
    "a.count       a.isalnum     a.ljust       a.rpartition  a.title\n",
    "a.decode      a.isalpha     a.lower       a.rsplit      a.translate\n",
    "a.encode      a.isdigit     a.lstrip      a.rstrip      a.upper\n",
    "a.endswith    a.islower     a.partition   a.split       a.zfill\n",
    "a.expandtabs  a.isspace     a.replace     a.splitlines\n",
    "a.find        a.istitle     a.rfind       a.startswith\n",
    "```"
   ]
  },
  {
   "cell_type": "code",
   "execution_count": null,
   "id": "c5366fd7",
   "metadata": {},
   "outputs": [],
   "source": [
    "a = '36'"
   ]
  },
  {
   "cell_type": "code",
   "execution_count": null,
   "id": "9011bf27",
   "metadata": {},
   "outputs": [],
   "source": [
    "a."
   ]
  },
  {
   "cell_type": "code",
   "execution_count": null,
   "id": "6a9a9cc4",
   "metadata": {},
   "outputs": [],
   "source": [
    "a.replace('3','H')"
   ]
  },
  {
   "cell_type": "markdown",
   "id": "d693de06",
   "metadata": {},
   "source": [
    "#### Operaciones binarias:\n",
    "\n",
    "Operacion | Descripción\n",
    "----------|------------\n",
    "a + b | Suma\n",
    "a - b | Resta\n",
    "a * b | Multiplicacion\n",
    "a / b | División\n",
    "a // b | División entera\n",
    "a % b | Módulo o resto de la división entera\n",
    "a ** b | Potencia\n",
    "a & b | Y lógico\n",
    "a \\| b | O lógico\n",
    "a ^ b | O-exclusivo lógico\n",
    "a == b | True si son iguales\n",
    "a != b | True si no son iguales\n",
    "a <= b | True si a es menor o igual que b (también con  <=, <, >)\n",
    "a is b | Trues si a y b son una referencia al mismo objeto\n",
    "a is not b | Trues si a y b no son una referencia al mismo objeto\n",
    "\n"
   ]
  },
  {
   "cell_type": "code",
   "execution_count": null,
   "id": "e7d68a24",
   "metadata": {
    "scrolled": true
   },
   "outputs": [],
   "source": [
    "False ^ False"
   ]
  },
  {
   "cell_type": "code",
   "execution_count": null,
   "id": "5af35c26",
   "metadata": {},
   "outputs": [],
   "source": [
    "a = True\n",
    "type(a)"
   ]
  },
  {
   "cell_type": "code",
   "execution_count": null,
   "id": "9ed40a7b",
   "metadata": {},
   "outputs": [],
   "source": [
    "5 - 7\n",
    "12 + 21.5\n",
    "5 <= 2 & 7>3"
   ]
  },
  {
   "cell_type": "code",
   "execution_count": null,
   "id": "be742ed9",
   "metadata": {},
   "outputs": [],
   "source": [
    "2 in a"
   ]
  },
  {
   "cell_type": "code",
   "execution_count": null,
   "id": "71aa3215",
   "metadata": {},
   "outputs": [],
   "source": [
    "a = [1, 2, 3]\n",
    "b = a\n",
    "c = a.copy()\n",
    "c"
   ]
  },
  {
   "cell_type": "code",
   "execution_count": null,
   "id": "99563d5a",
   "metadata": {},
   "outputs": [],
   "source": [
    "a is c\n"
   ]
  },
  {
   "cell_type": "code",
   "execution_count": null,
   "id": "f2359de0",
   "metadata": {},
   "outputs": [],
   "source": [
    "a == c"
   ]
  },
  {
   "cell_type": "code",
   "execution_count": null,
   "id": "49079584",
   "metadata": {},
   "outputs": [],
   "source": [
    "a = 2\n",
    "a is None"
   ]
  },
  {
   "cell_type": "markdown",
   "id": "5dc09b8a",
   "metadata": {},
   "source": [
    "###  Tipos (Types) básicos de Python\n",
    "Los tipos mas relevantes son:\n",
    "- `None` : nulo, para identificar algo que no existe \n",
    "- `str` : String, texto\n",
    "- `bytes`: datos en formato ASCII\n",
    "- `bool`: booleano, puede ser verdadero (True) o falso (False)\n",
    "- `int` : número entero\n",
    "- `float` : número \"real\" (mas bien, doble-precision 64 bits)"
   ]
  },
  {
   "cell_type": "markdown",
   "id": "d68e5720",
   "metadata": {},
   "source": [
    "#### Números"
   ]
  },
  {
   "cell_type": "code",
   "execution_count": null,
   "id": "ea7a41ed",
   "metadata": {},
   "outputs": [],
   "source": [
    "ival = 17239871\n",
    "ival ** 6"
   ]
  },
  {
   "cell_type": "code",
   "execution_count": null,
   "id": "a963939f",
   "metadata": {},
   "outputs": [],
   "source": [
    "fval = 7.243\n",
    "fval2 = 6.78e-5\n",
    "fval2"
   ]
  },
  {
   "cell_type": "code",
   "execution_count": null,
   "id": "ff58072e",
   "metadata": {},
   "outputs": [],
   "source": [
    "3 / 2"
   ]
  },
  {
   "cell_type": "code",
   "execution_count": null,
   "id": "37231dbe",
   "metadata": {},
   "outputs": [],
   "source": [
    "7 // 3"
   ]
  },
  {
   "cell_type": "code",
   "execution_count": null,
   "id": "26de8967",
   "metadata": {},
   "outputs": [],
   "source": [
    "7 % 3"
   ]
  },
  {
   "cell_type": "markdown",
   "id": "40a46b6d",
   "metadata": {},
   "source": [
    "#### Strings (Texto)\n",
    "Puede usarse comillas (\") o apostrofe (').  Si son múltiples lineas, usar triple comillas o triple apostrofe"
   ]
  },
  {
   "cell_type": "code",
   "execution_count": null,
   "id": "db6b47cb",
   "metadata": {},
   "outputs": [],
   "source": [
    "a = 'one way of writing a string'\n",
    "b = \"another way\"\n",
    "b"
   ]
  },
  {
   "cell_type": "code",
   "execution_count": null,
   "id": "06bac2c7",
   "metadata": {},
   "outputs": [],
   "source": [
    "c = \"\"\"\n",
    "This is a longer string that\n",
    "spans multiple lines\n",
    "\"\"\""
   ]
  },
  {
   "cell_type": "code",
   "execution_count": null,
   "id": "e84e70b5",
   "metadata": {},
   "outputs": [],
   "source": [
    "c"
   ]
  },
  {
   "cell_type": "code",
   "execution_count": null,
   "id": "4caf4107",
   "metadata": {},
   "outputs": [],
   "source": [
    "print(c)"
   ]
  },
  {
   "cell_type": "markdown",
   "id": "6dd36418",
   "metadata": {},
   "source": [
    "Se pude convertir de un tipo a otro (usualmente, un número en un string)"
   ]
  },
  {
   "cell_type": "code",
   "execution_count": null,
   "id": "200fc7e0",
   "metadata": {},
   "outputs": [],
   "source": [
    "a = 3\n",
    "print(\"El valor es\" + a)"
   ]
  },
  {
   "cell_type": "code",
   "execution_count": null,
   "id": "88deabf5",
   "metadata": {},
   "outputs": [],
   "source": [
    "a = 3\n",
    "str(a)\n",
    "print(\"El valor es \" + str(a))\n"
   ]
  },
  {
   "cell_type": "code",
   "execution_count": null,
   "id": "9f41d961",
   "metadata": {},
   "outputs": [],
   "source": [
    "a='6.7'\n",
    "float(a)+1"
   ]
  },
  {
   "cell_type": "code",
   "execution_count": null,
   "id": "7523e3cc",
   "metadata": {},
   "outputs": [],
   "source": [
    "a = 3\n",
    "print(\"El valor es %d\" % a)"
   ]
  },
  {
   "cell_type": "markdown",
   "id": "cd10cef0",
   "metadata": {},
   "source": [
    "#### Booleanos\n",
    "Verdadero o Falso"
   ]
  },
  {
   "cell_type": "code",
   "execution_count": null,
   "id": "31f9e051",
   "metadata": {},
   "outputs": [],
   "source": [
    "True & True\n",
    "False or True"
   ]
  },
  {
   "cell_type": "markdown",
   "id": "5adc5d8c",
   "metadata": {},
   "source": [
    "#### Type casting \n",
    "Las funciones `float()`, `int()`, `bool()` y `str()` nos permiten cambiar entre estos tipos"
   ]
  },
  {
   "cell_type": "code",
   "execution_count": null,
   "id": "9a998e4a",
   "metadata": {},
   "outputs": [],
   "source": [
    "s = '3.74159'\n",
    "fval = float(s)\n",
    "type(fval)\n",
    "int(fval)\n",
    "bool(fval)"
   ]
  },
  {
   "cell_type": "markdown",
   "id": "f04cdfb7",
   "metadata": {},
   "source": [
    "#### None\n",
    "Tipo especial para representar algo que no existe"
   ]
  },
  {
   "cell_type": "code",
   "execution_count": null,
   "id": "c3312839",
   "metadata": {},
   "outputs": [],
   "source": [
    "a = None\n",
    "a is None\n",
    "b = 5\n",
    "b is not None"
   ]
  },
  {
   "cell_type": "markdown",
   "id": "a6b8a6d1",
   "metadata": {},
   "source": [
    "**Una gracia de Python es que una operación se interpreta de acuerdo al tipo de la variable.**"
   ]
  },
  {
   "cell_type": "code",
   "execution_count": null,
   "id": "bd3b4149",
   "metadata": {},
   "outputs": [],
   "source": [
    "5 + 7"
   ]
  },
  {
   "cell_type": "code",
   "execution_count": null,
   "id": "f0bae411",
   "metadata": {},
   "outputs": [],
   "source": [
    "'5' + '7'"
   ]
  },
  {
   "cell_type": "code",
   "execution_count": null,
   "id": "90e40d16",
   "metadata": {},
   "outputs": [],
   "source": [
    "'5' * 5"
   ]
  },
  {
   "cell_type": "markdown",
   "id": "04a45ccf",
   "metadata": {},
   "source": [
    "### Otros tipos\n",
    "#### Fechas y horas\n",
    "A través de las librerias de Python, podemos acceder a nuevos tipos, que incluyen sus propias funciones y métodos. Por ejemplo, para datos es muy util para manejar fechas. En este caso, importando la libreria `datetime`"
   ]
  },
  {
   "cell_type": "code",
   "execution_count": null,
   "id": "a3059739",
   "metadata": {},
   "outputs": [],
   "source": [
    "from datetime import datetime, date, time\n",
    "dt = datetime(2021, 4, 12, 9, 34, 0)\n",
    "dt.date()"
   ]
  },
  {
   "cell_type": "code",
   "execution_count": null,
   "id": "2e1486fd",
   "metadata": {},
   "outputs": [],
   "source": [
    "dt.date()\n",
    "dt.time()"
   ]
  },
  {
   "cell_type": "code",
   "execution_count": null,
   "id": "866adfb3",
   "metadata": {},
   "outputs": [],
   "source": []
  },
  {
   "cell_type": "code",
   "execution_count": null,
   "id": "8912f48f",
   "metadata": {},
   "outputs": [],
   "source": [
    "dt.strftime('%d/%m/%Y %H:%M')"
   ]
  },
  {
   "cell_type": "code",
   "execution_count": null,
   "id": "8755e2e7",
   "metadata": {},
   "outputs": [],
   "source": [
    "dt"
   ]
  },
  {
   "cell_type": "code",
   "execution_count": null,
   "id": "c149ce1a",
   "metadata": {},
   "outputs": [],
   "source": [
    "datetime.strptime('2009-10-31', '%Y-%m-%d')"
   ]
  },
  {
   "cell_type": "code",
   "execution_count": null,
   "id": "dae388ef",
   "metadata": {},
   "outputs": [],
   "source": [
    "dt.replace(minute=0, second=10)"
   ]
  },
  {
   "cell_type": "code",
   "execution_count": null,
   "id": "5d0540b5",
   "metadata": {},
   "outputs": [],
   "source": [
    "dt2 = datetime(2021, 4, 12, 9, 36)\n",
    "delta = dt2 - dt\n",
    "delta"
   ]
  },
  {
   "cell_type": "code",
   "execution_count": null,
   "id": "db46afed",
   "metadata": {},
   "outputs": [],
   "source": [
    "delta.total_seconds()"
   ]
  },
  {
   "cell_type": "markdown",
   "id": "1a068d3e",
   "metadata": {},
   "source": [
    "## Control de Flujo"
   ]
  },
  {
   "cell_type": "markdown",
   "id": "e4e67672",
   "metadata": {},
   "source": [
    "#### if, elif, y else\n",
    "Ejecuta un comando si (`if`) se cumple una condición, o si (`elif`) otra condicion se cumple, y si ninguna se cumple (`else`) ejecutar otro comando"
   ]
  },
  {
   "cell_type": "code",
   "execution_count": null,
   "id": "b0f15124",
   "metadata": {},
   "outputs": [],
   "source": [
    "x = 0\n",
    "if x < 0:\n",
    "    print('Negativo')\n",
    "else:\n",
    "    print('No negativo')"
   ]
  },
  {
   "cell_type": "code",
   "execution_count": null,
   "id": "5a7bbff9",
   "metadata": {},
   "outputs": [],
   "source": [
    "x = 6.2\n",
    "if x < 0:\n",
    "    print('Negativo')\n",
    "elif x == 0:\n",
    "    print('igual a cero')\n",
    "elif 0 < x < 5:\n",
    "    print('positivo menor que 5')\n",
    "else:\n",
    "    print('positivo mayor o igual que 5')"
   ]
  },
  {
   "cell_type": "markdown",
   "id": "68cc9b40",
   "metadata": {},
   "source": [
    "#### ciclos for \n",
    "Ejecuta una serie de comando para (`for`) un grupo de elementos de un conjunto."
   ]
  },
  {
   "cell_type": "code",
   "execution_count": null,
   "id": "797e5ded",
   "metadata": {},
   "outputs": [],
   "source": [
    "for i in [1,2,3,4]:\n",
    "    print(i)"
   ]
  },
  {
   "cell_type": "code",
   "execution_count": null,
   "id": "eecd3918",
   "metadata": {},
   "outputs": [],
   "source": [
    "for i in [4,\"Perro\",2,1]:\n",
    "    print(i)"
   ]
  },
  {
   "cell_type": "code",
   "execution_count": null,
   "id": "17a280e1",
   "metadata": {},
   "outputs": [],
   "source": [
    "for i in [4, [2,3] , \"Perro\"]:\n",
    "    print(i+i)"
   ]
  },
  {
   "cell_type": "markdown",
   "id": "bb307cce",
   "metadata": {},
   "source": [
    "Puedo interrumpir un ciclo usando `break`"
   ]
  },
  {
   "cell_type": "code",
   "execution_count": null,
   "id": "6a638c77",
   "metadata": {},
   "outputs": [],
   "source": [
    "for i in [1,2,3,4]:\n",
    "    for j in [1,2,3,4]:\n",
    "        if i==j:\n",
    "            break\n",
    "        print((i, j))"
   ]
  },
  {
   "cell_type": "markdown",
   "id": "5fb2e342",
   "metadata": {},
   "source": [
    "**comando util**: `range`: Algo muy util para ciclos de `for` es el comando `range()`, que entrega una secuencia de números"
   ]
  },
  {
   "cell_type": "code",
   "execution_count": null,
   "id": "ebf2d996",
   "metadata": {},
   "outputs": [],
   "source": [
    "list(range(8))"
   ]
  },
  {
   "cell_type": "code",
   "execution_count": null,
   "id": "ae45f137",
   "metadata": {},
   "outputs": [],
   "source": [
    "range?"
   ]
  },
  {
   "cell_type": "code",
   "execution_count": null,
   "id": "65eda706",
   "metadata": {},
   "outputs": [],
   "source": [
    "print(list(range(4,10,2)))"
   ]
  },
  {
   "cell_type": "code",
   "execution_count": null,
   "id": "0d381fe5",
   "metadata": {},
   "outputs": [],
   "source": [
    "range(10)\n",
    "list(range(10))"
   ]
  },
  {
   "cell_type": "code",
   "execution_count": null,
   "id": "57082c71",
   "metadata": {},
   "outputs": [],
   "source": [
    "for i in range(5):\n",
    "    print (i)"
   ]
  },
  {
   "cell_type": "code",
   "execution_count": null,
   "id": "92095744",
   "metadata": {},
   "outputs": [],
   "source": [
    "list(range(0, 20, 2))"
   ]
  },
  {
   "cell_type": "code",
   "execution_count": null,
   "id": "e07899da",
   "metadata": {},
   "outputs": [],
   "source": [
    "list(range(50, 0, -7))"
   ]
  },
  {
   "cell_type": "markdown",
   "id": "da27640a",
   "metadata": {},
   "source": [
    "#### Expresiones Ternarias  (Ternary expression)\n",
    "Python permite poner expresiones como `if` o `for` dentro de una linea, o una definición de una variable."
   ]
  },
  {
   "cell_type": "code",
   "execution_count": null,
   "id": "f45c1bcc",
   "metadata": {},
   "outputs": [],
   "source": [
    "x = -2\n",
    "if x > 0:\n",
    "    print(\"Hola\")\n",
    "else:\n",
    "    print(\"Chao\")"
   ]
  },
  {
   "cell_type": "code",
   "execution_count": null,
   "id": "129b934e",
   "metadata": {},
   "outputs": [],
   "source": [
    "x = -2\n",
    "print(\"Hola\"  if x > 0  else \"Chao\")"
   ]
  },
  {
   "cell_type": "markdown",
   "id": "b74bc4b0",
   "metadata": {},
   "source": [
    "para hacer listas (estructura que veremos pronto) mas facilmente "
   ]
  },
  {
   "cell_type": "code",
   "execution_count": null,
   "id": "f54d81bf",
   "metadata": {},
   "outputs": [],
   "source": [
    "[i**2 for i in range(5) ]"
   ]
  },
  {
   "cell_type": "markdown",
   "id": "f0954b7b",
   "metadata": {},
   "source": [
    "### Extra: texto en idioma español (u otros idiomas)\n",
    "#### Trabajo con acentos y eñes\n",
    "El texto, por defecto, es un código llamado ASCII. Este código no considera caracteres especiales como ñ, acentos, u otras letras. Estas tipicamente se \"codifican\" como string, siendo el mas común el UTF8. Sin embargo, hay varios encoding distintos (por ejemplo, _UTF16_, o _Latin1_).  A veces, al leer datos, pueden estar en la codificación incorrecta, pero podemos codificarlos (`encode`) o decodificarlos (`decode`) como queramos.\n"
   ]
  },
  {
   "cell_type": "code",
   "execution_count": null,
   "id": "ba4fc532",
   "metadata": {},
   "outputs": [],
   "source": [
    "a = \"baño\"\n",
    "a"
   ]
  },
  {
   "cell_type": "code",
   "execution_count": null,
   "id": "823d2d3e",
   "metadata": {},
   "outputs": [],
   "source": [
    "a8 = a.encode('utf8')\n",
    "a8"
   ]
  },
  {
   "cell_type": "code",
   "execution_count": null,
   "id": "cfc7a0d6",
   "metadata": {},
   "outputs": [],
   "source": [
    "a16 = a.encode('utf16')\n",
    "a16"
   ]
  },
  {
   "cell_type": "code",
   "execution_count": null,
   "id": "6f2d5d2e",
   "metadata": {},
   "outputs": [],
   "source": [
    "a32 = a.encode('latin1')\n",
    "a32"
   ]
  },
  {
   "cell_type": "code",
   "execution_count": null,
   "id": "0a0f186a",
   "metadata": {},
   "outputs": [],
   "source": [
    "print(a8)"
   ]
  },
  {
   "cell_type": "code",
   "execution_count": null,
   "id": "91fcf1c1",
   "metadata": {},
   "outputs": [],
   "source": [
    "print(a8.decode('utf8'))"
   ]
  }
 ],
 "metadata": {
  "kernelspec": {
   "display_name": "Python 3 (ipykernel)",
   "language": "python",
   "name": "python3"
  },
  "language_info": {
   "codemirror_mode": {
    "name": "ipython",
    "version": 3
   },
   "file_extension": ".py",
   "mimetype": "text/x-python",
   "name": "python",
   "nbconvert_exporter": "python",
   "pygments_lexer": "ipython3",
   "version": "3.9.7"
  }
 },
 "nbformat": 4,
 "nbformat_minor": 5
}
